{
 "cells": [
  {
   "cell_type": "raw",
   "id": "cf495e4b-cc39-45a4-92c8-84fb8e211889",
   "metadata": {},
   "source": [
    "Q1 : What is Exception in python? Write the difference between Exceptions and Syntax Errors."
   ]
  },
  {
   "cell_type": "raw",
   "id": "b7324078-f6ef-453f-95fb-9c3ed1ecfba4",
   "metadata": {},
   "source": [
    "# ANS : When a situation arises that the programmer did not anticipate or handle,\n",
    "        Python raises an exception to signal that an error or an exceptional condition has occurred. \n",
    "        Exceptions provide a way to gracefully handle unexpected situations and prevent the program from crashing.\n",
    "\n",
    "### Exceptions ###\n",
    "\n",
    "1) Definition:\n",
    "Exceptions occur during the execution of a program when something unexpected happens.\n",
    "They are runtime errors that disrupt the normal flow of the program.\n",
    "\n",
    "2) Detection:\n",
    "Exceptions are not detected during the parsing (compilation) phase but are encountered during runtime.\n",
    "\n",
    "3) Cause:\n",
    "Exceptions can occur for various reasons, such as dividing by zero, accessing an index that is out of bounds, or attempting to open a file that doesn't exist.\n",
    "\n",
    "4) Handling:\n",
    "Exceptions can be handled using try, except, finally, and else blocks to gracefully respond to unexpected situations.\n",
    "\n",
    "\n",
    "### Syntax Errors ###\n",
    "\n",
    "1) Definition:\n",
    "\n",
    "Syntax errors occur when the Python interpreter encounters an error in the structure of your code.\n",
    "They are detected during the parsing (compilation) phase before the program is executed.\n",
    "\n",
    "2) Detection:\n",
    "Syntax errors are detected during the parsing phase, preventing the program from running until they are corrected.\n",
    "\n",
    "3) Cause:\n",
    "Syntax errors indicate a violation of the Python language rules, such as a missing parenthesis, incorrect indentation, or a misspelled keyword.\n",
    "\n",
    "4) Handling:\n",
    "Syntax errors must be fixed before the program can be executed. The program will not run until syntax errors are corrected.\n",
    "\n"
   ]
  },
  {
   "cell_type": "raw",
   "id": "7dccb3ea-6547-4dc2-bb0d-52123b365b32",
   "metadata": {},
   "source": [
    "Q2. what happens when an exception is not handled ? explain with an example."
   ]
  },
  {
   "cell_type": "raw",
   "id": "2305daf6-ccce-4c3c-892f-99f1c3bc2f83",
   "metadata": {},
   "source": [
    "ANS : \n",
    "\n",
    "@Program Termination:\n",
    "\n",
    "# If an exception occurs and there is no corresponding exception-handling code (such as a try-except block) to handle it, the program will terminate abruptly.\n",
    "The default behavior in many programming languages is to print an error message to the console or log file and then halt the execution of the program.\n",
    "\n",
    "@ Data Corruption:\n",
    "# In some cases, if an exception is not handled and the program terminates unexpectedly, it may leave data structures or files in an inconsistent state, leading to potential data corruption.\n",
    "\n",
    "@ Debugging Challenges:\n",
    "# Without proper error handling, it may be difficult to trace back the origin of the problem."
   ]
  },
  {
   "cell_type": "code",
   "execution_count": null,
   "id": "12cb11c3-5c32-43ab-95f2-2008460bbce9",
   "metadata": {},
   "outputs": [],
   "source": [
    "# ANS : Example of code : \n",
    "\n",
    "def divide_numbers(a, b):\n",
    "    result = a / b\n",
    "    return result\n",
    "\n",
    "# Case 1: Handling the exception\n",
    "try:\n",
    "    result = divide_numbers(10, 0)\n",
    "    print(\"Result:\", result)\n",
    "except ZeroDivisionError as e:\n",
    "    print(\"Error:\", e)\n",
    "\n",
    "# Case 2: Not handling the exception\n",
    "result = divide_numbers(10, 0)\n",
    "print(\"Result:\", result)\n",
    "\n"
   ]
  },
  {
   "cell_type": "raw",
   "id": "501ccb0a-8570-45e9-9b84-693341f9438b",
   "metadata": {},
   "source": [
    "Q3. Which python statements are used to catch and handle exceptions? Explain with an Examples."
   ]
  },
  {
   "cell_type": "code",
   "execution_count": null,
   "id": "aa14f902-cfe9-4486-b3a3-aeb1984a5608",
   "metadata": {},
   "outputs": [],
   "source": [
    "# ANS : \n",
    "\n",
    "# try and except:\n",
    "\n",
    "# The try block contains the code that might raise an exception.\n",
    "# The except block is executed if an exception occurs in the try block.\n",
    "\n",
    "try:\n",
    "    # Code that might raise an exception\n",
    "    result = 10 / 0\n",
    "except ZeroDivisionError as e:\n",
    "    # Code to handle the exception\n",
    "    print(\"Error:\", e)\n",
    "\n",
    "# try, except, and else:\n",
    "\n",
    "# The else block is executed if no exceptions are raised in the try block.\n",
    "\n",
    "try:\n",
    "    result = 10 / 2\n",
    "except ZeroDivisionError as e:\n",
    "    print(\"Error:\", e)\n",
    "else:\n",
    "    # Code to execute if no exception occurred\n",
    "    print(\"Result:\", result)\n",
    "    \n",
    "# try, except, and finally:\n",
    "\n",
    "# The finally block is always executed, regardless of whether an exception occurred or not.\n",
    "\n",
    "try:\n",
    "    result = 10 / 2\n",
    "except ZeroDivisionError as e:\n",
    "    print(\"Error:\", e)\n",
    "finally:\n",
    "    # Code that always executes\n",
    "    print(\"Finally block\")\n",
    "\n",
    "# Multiple except Blocks:\n",
    "# You can have multiple except blocks to handle different types of exceptions.    \n",
    "    \n",
    "try:\n",
    "    value = int(\"abc\")\n",
    "except ValueError as e:\n",
    "    print(\"ValueError:\", e)\n",
    "except TypeError as e:\n",
    "    print(\"TypeError:\", e)\n",
    "\n"
   ]
  },
  {
   "cell_type": "raw",
   "id": "ba14b389-9282-4314-a181-6cdf2a3f5a23",
   "metadata": {},
   "source": [
    "Q4: Explain with an Example :\n",
    "\n",
    "a.try and else\n",
    "b.finally\n",
    "c.raise"
   ]
  },
  {
   "cell_type": "code",
   "execution_count": 3,
   "id": "0783e502-8cba-4193-8679-b2f7e575af94",
   "metadata": {},
   "outputs": [],
   "source": [
    "# ANS : \n",
    "\n",
    "# a. try and else : \n",
    "\n",
    "try:\n",
    "    with open(\"example_file.txt\", \"r\") as file:\n",
    "        content = file.read()\n",
    "except FileNotFoundError:\n",
    "    print(\"File not found.\")\n",
    "else:\n",
    "    print(\"File contents:\")\n",
    "    print(content)\n",
    "\n",
    "# b.  finally :\n",
    "\n",
    "try:\n",
    "    file = open(\"example_file.txt\", \"r\")\n",
    "    content = file.read()\n",
    "except FileNotFoundError:\n",
    "    print(\"File not found.\")\n",
    "finally:\n",
    "    # This block will always be executed, ensuring the file is closed\n",
    "    file.close()\n",
    "    print(\"File closed.\")\n",
    "    \n",
    "    \n",
    "# c. raise :\n",
    "\n",
    "def validate_age(age):\n",
    "    if age < 0:\n",
    "        raise ValueError(\"Age cannot be negative.\")\n",
    "    else:\n",
    "        print(\"Age is valid.\")\n",
    "\n",
    "try:\n",
    "    validate_age(-5)\n",
    "except ValueError as e:\n",
    "    print(\"Error:\", e)\n",
    "\n",
    "    "
   ]
  },
  {
   "cell_type": "raw",
   "id": "c5593479-3ec8-4132-8af7-94af6fc693d8",
   "metadata": {},
   "source": [
    "Q5 : What are the custom exceptions in python ? why do we need custom Exceptions? Explain with an example."
   ]
  },
  {
   "cell_type": "code",
   "execution_count": 4,
   "id": "8494e8ee-ad6e-4258-bd61-665b06fb0560",
   "metadata": {},
   "outputs": [
    {
     "name": "stdout",
     "output_type": "stream",
     "text": [
      "Error: Cannot calculate square root of a negative number.\n"
     ]
    }
   ],
   "source": [
    "# ANS : Specificity: Custom exceptions allow you to capture specific error scenarios in your code. This can be helpful for debugging and understanding the root cause of issues.\n",
    "\n",
    "#       Readability: Using custom exceptions can make your code more readable by providing descriptive names for different error conditions, making it easier for other developers (or even yourself) to understand what went wrong.\n",
    "\n",
    "#        Hierarchy: You can create a hierarchy of custom exceptions, organizing them in a way that reflects the relationships between different error types.\n",
    "\n",
    "\n",
    "class NegativeValueError(ValueError):\n",
    "    \"\"\"Custom exception for handling negative values.\"\"\"\n",
    "\n",
    "def calculate_square_root(number):\n",
    "    if number < 0:\n",
    "        raise NegativeValueError(\"Cannot calculate square root of a negative number.\")\n",
    "    else:\n",
    "        return number ** 0.5\n",
    "\n",
    "try:\n",
    "    result = calculate_square_root(-9)\n",
    "except NegativeValueError as e:\n",
    "    print(\"Error:\", e)\n"
   ]
  },
  {
   "cell_type": "raw",
   "id": "2cfed0e2-c7db-4ff1-858c-6073a81be8fe",
   "metadata": {},
   "source": [
    "Q6 : Create a custom exceptions class, Use this class to handle an exceptions."
   ]
  },
  {
   "cell_type": "code",
   "execution_count": null,
   "id": "876517c2-fcb4-4a01-a82f-7dde567ffed9",
   "metadata": {},
   "outputs": [],
   "source": [
    "# ANS : \n",
    "\n",
    "class InvalidInputError(Exception):\n",
    "    \"\"\"Custom exception for handling invalid input.\"\"\"\n",
    "\n",
    "def process_input(value):\n",
    "    if not isinstance(value, int):\n",
    "        raise InvalidInputError(\"Invalid input. Please provide an integer.\")\n",
    "\n",
    "# Processing logic for valid input\n",
    "    result = value * 2\n",
    "    return result\n",
    "\n",
    "try:\n",
    "    user_input = input(\"Enter an integer: \")\n",
    "    user_input = int(user_input)\n",
    "    output = process_input(user_input)\n",
    "    print(\"Result:\", output)\n",
    "\n",
    "except ValueError:\n",
    "    print(\"Error: Invalid input. Please enter a valid integer.\")\n",
    "except InvalidInputError as e:\n",
    "    print(\"Custom Error:\", e)\n"
   ]
  },
  {
   "cell_type": "code",
   "execution_count": null,
   "id": "932edc1d-d23a-46c1-928a-d85e85bb5e81",
   "metadata": {},
   "outputs": [],
   "source": []
  },
  {
   "cell_type": "code",
   "execution_count": null,
   "id": "6ff27aeb-01bf-48d9-9976-43b0605fe55f",
   "metadata": {},
   "outputs": [],
   "source": []
  }
 ],
 "metadata": {
  "kernelspec": {
   "display_name": "Python 3 (ipykernel)",
   "language": "python",
   "name": "python3"
  },
  "language_info": {
   "codemirror_mode": {
    "name": "ipython",
    "version": 3
   },
   "file_extension": ".py",
   "mimetype": "text/x-python",
   "name": "python",
   "nbconvert_exporter": "python",
   "pygments_lexer": "ipython3",
   "version": "3.10.8"
  }
 },
 "nbformat": 4,
 "nbformat_minor": 5
}
